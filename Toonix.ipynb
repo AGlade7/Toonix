{
 "cells": [
  {
   "cell_type": "code",
   "execution_count": 51,
   "metadata": {},
   "outputs": [],
   "source": [
    "import cv2\n",
    "import numpy as np\n",
    "import matplotlib.pyplot as plt"
   ]
  },
  {
   "cell_type": "code",
   "execution_count": 52,
   "metadata": {},
   "outputs": [],
   "source": [
    "# Load Image \n",
    "def read_file(filename):\n",
    "    img = cv2.imread(filename)\n",
    "    img = cv2.cvtColor(img, cv2.COLOR_BGR2RGB)\n",
    "    # plt.imshow(img)\n",
    "    # plt.show()\n",
    "    return img"
   ]
  },
  {
   "cell_type": "code",
   "execution_count": 53,
   "metadata": {},
   "outputs": [],
   "source": [
    "filename = \"./testimage.jpg\"\n",
    "img = read_file(filename)"
   ]
  },
  {
   "cell_type": "code",
   "execution_count": 54,
   "metadata": {},
   "outputs": [],
   "source": [
    "# Create Edge Mask\n",
    "\n",
    "def edge_mask(img, line_size, blur_value):\n",
    "    gray = cv2.cvtColor(img, cv2.COLOR_RGB2GRAY)\n",
    "    gray_blur = cv2.medianBlur(gray, blur_value)\n",
    "    edges = cv2.adaptiveThreshold(gray_blur, 255, cv2.ADAPTIVE_THRESH_MEAN_C, cv2.THRESH_BINARY, line_size, blur_value)\n",
    "    return edges"
   ]
  },
  {
   "cell_type": "code",
   "execution_count": 55,
   "metadata": {},
   "outputs": [],
   "source": [
    "line_size, blur_value = 7,7\n",
    "edges = edge_mask(img, line_size, blur_value)\n",
    "# plt.imshow(edges, cmap = \"binary\")\n",
    "# plt.show()"
   ]
  },
  {
   "cell_type": "code",
   "execution_count": 56,
   "metadata": {},
   "outputs": [],
   "source": [
    "# Reduce the Color Pallete\n",
    "def color_quantization(img, k):\n",
    "    \n",
    "    #Image transformation to work on it    \n",
    "    data = np.asarray(img, dtype=float).reshape((-1,3))\n",
    "    data = np.float32(data)\n",
    "\n",
    "    #Determining Criteria\n",
    "    criteria = (cv2.TERM_CRITERIA_EPS + cv2.TERM_CRITERIA_MAX_ITER, 20, 0.001)\n",
    "\n",
    "    # Implementing K-Means\n",
    "    ret, label, center = cv2.kmeans(data, k, None, criteria, 10, cv2.KMEANS_RANDOM_CENTERS)\n",
    "    center = np.uint8(center)\n",
    "\n",
    "    result = center[label.flatten()]\n",
    "    result = result.reshape(img.shape)\n",
    "\n",
    "    return result"
   ]
  },
  {
   "cell_type": "code",
   "execution_count": 57,
   "metadata": {},
   "outputs": [],
   "source": [
    "quantized_img = color_quantization(img, k=4)\n",
    "\n",
    "# plt.imshow(quantized_img)\n",
    "# plt.show()"
   ]
  },
  {
   "cell_type": "code",
   "execution_count": 58,
   "metadata": {},
   "outputs": [],
   "source": [
    "# Reduce Noise \n",
    "\n",
    "blurred = cv2.bilateralFilter(img, d=7, sigmaColor=200, sigmaSpace=200)\n",
    "# plt.imshow(blurred)\n",
    "# plt.show()"
   ]
  },
  {
   "cell_type": "code",
   "execution_count": 59,
   "metadata": {},
   "outputs": [],
   "source": [
    "#Combine Edge Mask with Quantized Image\n",
    "\n",
    "def cartoonize():\n",
    "    c = cv2.bitwise_and(blurred, quantized_img, mask=edges)\n",
    "    return c"
   ]
  },
  {
   "cell_type": "code",
   "execution_count": 62,
   "metadata": {},
   "outputs": [],
   "source": [
    "# Get the final cartoonized image\n",
    "\n",
    "cartoon = cartoonize()\n",
    "# plt.imshow(img)\n",
    "# plt.show()\n",
    "# plt.imshow(cartoon)\n",
    "# plt.show()"
   ]
  }
 ],
 "metadata": {
  "kernelspec": {
   "display_name": "Python 3",
   "language": "python",
   "name": "python3"
  },
  "language_info": {
   "codemirror_mode": {
    "name": "ipython",
    "version": 3
   },
   "file_extension": ".py",
   "mimetype": "text/x-python",
   "name": "python",
   "nbconvert_exporter": "python",
   "pygments_lexer": "ipython3",
   "version": "3.11.3"
  },
  "orig_nbformat": 4
 },
 "nbformat": 4,
 "nbformat_minor": 2
}
